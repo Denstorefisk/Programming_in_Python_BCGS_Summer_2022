{
 "cells": [
  {
   "cell_type": "markdown",
   "metadata": {},
   "source": [
    "# Project 4 - Dance of the moons: Janus and Epimetheus"
   ]
  },
  {
   "cell_type": "markdown",
   "metadata": {
    "tags": []
   },
   "source": [
    "**Project deadline:** This project is due for submission on Monday, 04.07.2022, 23:55. Please check carefully the *About the Projects* section below for further details."
   ]
  },
  {
   "cell_type": "markdown",
   "metadata": {},
   "source": [
    "**Imprtant:** You again have the choice between two projects. This one focusses on the implementation and analysis of a more complex system of differential equations. You will also learn how to create animations woth matplotlib.\n",
    "The other project shows you an advanced scientific problem from astronomy (detection and analysis of extrasolar planets). It teaches modern analysis techniques, advanced statistical techniques  and it is based on real observations."
   ]
  },
  {
   "cell_type": "markdown",
   "metadata": {
    "tags": []
   },
   "source": [
    "## About the Projects\n",
    "- You will get one project approximately every other week.\n",
    "- Besides the homework-assignments, you need to solve the projects in order to pass the course. Your final course mark consists of the mean of your project marks. We hand-out four projects during the term and we do not consider the worst project mark for your final course mark. Projects that you do not hand in are counted with a mark of 4.\n",
    "- The project needs to be submitted by uploading this notebook to [Projects/Project 4](https://ecampus.uni-bonn.de/goto_ecampus_exc_2645968.html) on eCampus. You do not need to modify the notebooks name before your upload. Your project must be on eCampus by Monday, 04.07.2022, 23:55. **No late uploads can be accepted!**\n",
    "- **In contrast to the homework exercises, each student must hand in an own solution for the projects! Of course you can and should discuss problems with each other! However, you need to be able to explain your solution in detail to your tutor and/or the lecturers! We might ask you for an interview about your project if the solution is (close to) identical to another students submission.**\n",
    "\n",
    "**Note:** The tutors, Nina and I are very happy to help you out with difficulties you might have with the project tasks! You can ask questions any time but please do so well in advance of the deadlines!"
   ]
  },
  {
   "cell_type": "markdown",
   "metadata": {},
   "source": [
    "## Introduction"
   ]
  },
  {
   "cell_type": "markdown",
   "metadata": {},
   "source": [
    "Epimetheus and Janus are moons that orbit the planet Saturn; see also [this article on Wikipedia](https://en.wikipedia.org/wiki/Epimetheus_(moon). Epimetheus's orbit is *co-orbitag with that of Janus*, i.e. they orbit Saturn on nearly equal trajectories. Janus's mean orbital radius from Saturn is only 50 km less than that of Epimetheus, a distance smaller than either moon's mean radius. All four years, the two moons meet each other as, according to Kepler's law, the inner moon moves a bit faster than the outer one. Your task is to investigate why there is no collision between the two moons.\n",
    "\n",
    "We want to simulate the three-body-problem of Saturn, Janus and Epimetheus. Our reference frame is the restframe of Saturn. The motion between bodies is then governed by the gravitational law:\n",
    "$$\n",
    "m_i\\ddot{\\vec{x_i}} = \\sum_j \\vec{F_{ij}}\n",
    "$$\n",
    "with\n",
    "$$\n",
    "\\vec{F_{ij}} = -G\\frac{m_im_j}{|\\vec{x_i}-\\vec{x_j}|^3}(\\vec{x_i}-\\vec{x_j}).\n",
    "$$\n",
    "We assume that all movements take place in a two-dimensional plane and we work in dimensionless units with $G=1$, $m_{\\text{J}}=1$, $m_{\\text{E}}=4$ and $m_{\\text{S}}=4.0\\times 10^4$.\n",
    "\n",
    "The initial conditions for the moons movements are: \n",
    "$$\n",
    "\\vec{x_{\\text{J}}}(0)=(-155, 0);\\, \\frac{\\text{d}\\vec{x_{\\text{J}}}(0)}{\\text{d}t} = (0, -16.1)\n",
    "$$\n",
    "and\n",
    "$$\n",
    "\\vec{x_{\\text{E}}}(0)=(150, 0); \\, \\frac{\\text{d}\\vec{x_{\\text{E}}}(0)}{\\text{d}t} = (0, 16.3).\n",
    "$$\n",
    "Note that $\\vec{x_S}(t)=0$ for all times!"
   ]
  },
  {
   "cell_type": "markdown",
   "metadata": {},
   "source": [
    "## Your tasks"
   ]
  },
  {
   "cell_type": "markdown",
   "metadata": {},
   "source": [
    "1. Prepare the ODE-system governing the movements of the moons for `odeint`. Note that you will obtain eight(!) ODEs of first order in total! Please describe in your solution the used notation. Your grader needs to be able to follow and understand your implementation easily.\n",
    "2. Solve the system for $0\\leq t \\leq 2000$ and plot for both moons the distance to Saturn as a function of time. This should make clear how the moons avoid a collision on their orbits.\n",
    "3. Teach yourself the creation of animations (small films) with matplotlib. The is plenty of information on the WWW.\n",
    "4. Create an animation of the moons movements with `matplotlib`. You can consider here the range $-200\\leq x, y\\leq 200$.\n",
    "\n",
    "**Note:** Tasks (3) and (4) are intentionally quite vague. There are many possibilities (creation of external movies; animation within a notebook etc.). Please chosse whatever you like but give a short description of your method in your solution."
   ]
  },
  {
   "cell_type": "code",
   "execution_count": null,
   "metadata": {},
   "outputs": [],
   "source": [
    "# Your solution here please"
   ]
  }
 ],
 "metadata": {
  "kernelspec": {
   "display_name": "Python 3 (ipykernel)",
   "language": "python",
   "name": "python3"
  },
  "language_info": {
   "codemirror_mode": {
    "name": "ipython",
    "version": 3
   },
   "file_extension": ".py",
   "mimetype": "text/x-python",
   "name": "python",
   "nbconvert_exporter": "python",
   "pygments_lexer": "ipython3",
   "version": "3.7.13"
  }
 },
 "nbformat": 4,
 "nbformat_minor": 4
}
