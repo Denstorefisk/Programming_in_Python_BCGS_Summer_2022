{
 "cells": [
  {
   "cell_type": "markdown",
   "metadata": {},
   "source": [
    "# Astropy: Units and Constants"
   ]
  },
  {
   "cell_type": "markdown",
   "metadata": {},
   "source": [
    "**Note:** Many packages dealing with physics have a `units`-submodule. Their functionality is very similar and we can use the `astropy`-module as an example. "
   ]
  },
  {
   "cell_type": "markdown",
   "metadata": {},
   "source": [
    "## Documentation"
   ]
  },
  {
   "cell_type": "markdown",
   "metadata": {},
   "source": [
    "For more information about the features presented below, you can read the\n",
    "[astropy.units](http://docs.astropy.org/en/stable/units/index.html) docs."
   ]
  },
  {
   "cell_type": "markdown",
   "metadata": {},
   "source": [
    "## Purpose of the module\n",
    "We often need to deal with quantities consisting of a numerical value and a *phsyical unit*. Keeping track of concrete units in more complex expressions manually is very prone to errors and cumbersome. As an example consider the following dimensionless expression:\n",
    "$$\n",
    "q = \\left(\\frac{T}{2\\pi GM_{\\odot}} \\right)^{1/3} v.\n",
    "$$\n",
    "The `astropy.units`-module allows us to comfortably deal with such expressions."
   ]
  },
  {
   "cell_type": "markdown",
   "metadata": {},
   "source": [
    "## Representing units and quantities (numbers with attached units)"
   ]
  },
  {
   "cell_type": "markdown",
   "metadata": {},
   "source": [
    "### Units"
   ]
  },
  {
   "cell_type": "markdown",
   "metadata": {},
   "source": [
    "Astropy includes a powerful framework for units which allows us to attach\n",
    "units to scalars and `numpy`-arrays. These *quantities* can be manipulated and combined at will while `python` keeps track of the units.\n",
    "\n",
    "Names for units are intuitive and astropy really contains *all* units that we need! Units can be accessed with:"
   ]
  },
  {
   "cell_type": "code",
   "execution_count": null,
   "metadata": {},
   "outputs": [],
   "source": [
    "import astropy.units as au\n",
    "\n",
    "# basic units\n",
    "u = au.m  # meter (irreducible base unit)\n",
    "print(type(u))\n",
    "print(u.to(au.km)) # conversion to km\n",
    "print(u.find_equivalent_units())  # list other relevant length units"
   ]
  },
  {
   "cell_type": "markdown",
   "metadata": {},
   "source": [
    "**Notes:**\n",
    "- See [this link](http://docs.astropy.org/en/stable/units/standard_units.html) for a list of base-units (not complete!)\n",
    "- For a given *base-unit* such as meters, all prefixes (*k*=kilo, *m*=milli) etc. can be used\n",
    "- The `find_equivalent_units`-function does not list **all** available units, only the *most* relevant ones\n",
    "- Base units can be arbitrarily combined to compound units"
   ]
  },
  {
   "cell_type": "code",
   "execution_count": null,
   "metadata": {},
   "outputs": [],
   "source": [
    "import astropy.units as au\n",
    "import astropy.units.imperial as aui\n",
    "\n",
    "aui.enable()  # enable units used in England / the USA\n",
    "u = au.m\n",
    "print(u.find_equivalent_units())\n",
    "\n",
    "cu = au.kg * au.m / au.s**2  # arbitrary combination of base-units\n",
    "print(type(cu))\n",
    "print(cu.find_equivalent_units())\n",
    "\n",
    "cu = au.kg\n",
    "print(cu.find_equivalent_units())\n"
   ]
  },
  {
   "cell_type": "markdown",
   "metadata": {},
   "source": [
    "There is a specific `dimensionless_unscaled`-unit:"
   ]
  },
  {
   "cell_type": "code",
   "execution_count": null,
   "metadata": {},
   "outputs": [],
   "source": [
    "import astropy.units as su\n",
    "\n",
    "u = au.km / au.m\n",
    "print(u.to(au.dimensionless_unscaled))"
   ]
  },
  {
   "cell_type": "markdown",
   "metadata": {},
   "source": [
    "## Conversion of units\n",
    "Units can be converted between *equivalent units* without problems:"
   ]
  },
  {
   "cell_type": "code",
   "execution_count": null,
   "metadata": {},
   "outputs": [],
   "source": [
    "import astropy.units as su\n",
    "\n",
    "u = au.km * au.nm * au.M_earth / (au.s * au.year)\n",
    "u.to(au.J)"
   ]
  },
  {
   "cell_type": "markdown",
   "metadata": {},
   "source": [
    "Note that we have in astronomy often the understanding of *equivalent units*, although they are not the same physically:"
   ]
  },
  {
   "cell_type": "code",
   "execution_count": null,
   "metadata": {},
   "outputs": [],
   "source": [
    "import astropy.units as au\n",
    "\n",
    "# mass and energy are equaivalent via Einsteins relation E=m c**2\n",
    "u = 1.0 * au.kg\n",
    "print(u.to(au.J, equivalencies=au.mass_energy()))\n",
    "\n",
    "# Energy and wavelength are equaivalent via E = h * (c/lambda)\n",
    "e = 1.0 * au.keV\n",
    "print(e.to(au.nm, equivalencies=au.spectral()))\n",
    "\n",
    "w = 500.0 * au.nm\n",
    "print(w.to(au.keV, equivalencies=au.spectral()))\n",
    "\n",
    "# pixel scales are often considered equivalent to angles:\n",
    "omegacam_pixscale = au.pixel_scale(0.21 * au.arcsec / au.pixel)\n",
    "print((60 * au.arcmin).to(au.pixel, omegacam_pixscale))\n",
    "print((100 * au.pixel).to(au.arcsec, omegacam_pixscale))"
   ]
  },
  {
   "cell_type": "markdown",
   "metadata": {},
   "source": [
    "## Quantities and `numpy`-arrays"
   ]
  },
  {
   "cell_type": "markdown",
   "metadata": {},
   "source": [
    "The most useful feature about the units is the ability to attach them to\n",
    "numerical scalars or arrays, creating ``Quantity`` objects. These can be used naturally with many `numpy`-functions."
   ]
  },
  {
   "cell_type": "code",
   "execution_count": null,
   "metadata": {},
   "outputs": [],
   "source": [
    "%matplotlib inline\n",
    "import numpy as np\n",
    "import astropy.units as au\n",
    "import matplotlib.pyplot as plt\n",
    "\n",
    "q = 3. * au.deg  # scalar quantity\n",
    "print(type(q))\n",
    "# a quantity has a value and a unit!\n",
    "print(q.value, q.unit)\n",
    "\n",
    "q = 3.0 * au.cm / (2.0 * au.m)\n",
    "# automatic conversion to dimensionless units\n",
    "print(np.exp(q), np.exp(3.0e-2 / 2. ))\n",
    "\n",
    "# numpy-array of 'angles'\n",
    "a = np.linspace(0.0, 360.0, 40) * au.deg  \n",
    "b = np.sin(a) # correct interpretation of the units!\n",
    "print(b)\n",
    "\n",
    "# plots behave as expected; the values are plotted:\n",
    "plt.plot(a, b)"
   ]
  },
  {
   "cell_type": "markdown",
   "metadata": {},
   "source": [
    "### Combining and converting quantities"
   ]
  },
  {
   "cell_type": "markdown",
   "metadata": {},
   "source": [
    "Quantities can be combined in a very natural way"
   ]
  },
  {
   "cell_type": "code",
   "execution_count": null,
   "metadata": {},
   "outputs": [],
   "source": [
    "import numpy as np\n",
    "import astropy.units as au\n",
    "\n",
    "q1 = 3.0 * au.m\n",
    "q2 = 3.0 * au.cm\n",
    "\n",
    "q3 = q1 / q2\n",
    "print(q3.value, q3.unit, q3.to(au.dimensionless_unscaled))\n",
    "\n",
    "q3 = q1 * q2\n",
    "print(q3.value, q3.unit, q3.to(au.m**2))\n",
    "\n",
    "q1 = np.linspace(1.0, 60.0, 10) * au.arcmin\n",
    "q2 = np.linspace(1.0, 600.0, 10) * au.arcsec\n",
    "\n",
    "q3 = q1 * q2\n",
    "print(q3.to(au.deg**2))"
   ]
  },
  {
   "cell_type": "markdown",
   "metadata": {},
   "source": [
    "Quantities can be converted to the SI or CGS system"
   ]
  },
  {
   "cell_type": "code",
   "execution_count": null,
   "metadata": {},
   "outputs": [],
   "source": [
    "q = (3. * au.cm * au.pc / au.g / au.year**2)\n",
    "si = q.decompose()  # SI is the default\n",
    "print(si)\n",
    "\n",
    "cgs = q.decompose(au.cgs.bases)\n",
    "print(cgs)"
   ]
  },
  {
   "cell_type": "markdown",
   "metadata": {},
   "source": [
    "### Physical constants"
   ]
  },
  {
   "cell_type": "markdown",
   "metadata": {},
   "source": [
    "The [astropy.constants](http://docs.astropy.org/en/stable/constants/index.html) module contains\n",
    "physical constants relevant for Astronomy, and these are defined with units\n",
    "attached to them using the ``astropy.units`` framework.\n",
    "\n",
    "The full list of available physical constants is shown [here](http://docs.astropy.org/en/stable/constants/index.html#module-astropy.constants)."
   ]
  },
  {
   "cell_type": "code",
   "execution_count": null,
   "metadata": {},
   "outputs": [],
   "source": [
    "# We want to calculate the Gravitational force felt by a 100. * u.kg \n",
    "# space probe by the Sun, at a distance of 3.2au\n",
    "\n",
    "import astropy.units as au\n",
    "import astropy.constants as ac\n",
    "\n",
    "# Here we use the constant G:\n",
    "F = (ac.G * 1.0 * au.M_sun * 100. * au.kg) / (3.2 * au.au)**2\n",
    "print(F.to(au.N))"
   ]
  },
  {
   "cell_type": "code",
   "execution_count": null,
   "metadata": {},
   "outputs": [],
   "source": [
    "ac.G"
   ]
  },
  {
   "cell_type": "code",
   "execution_count": null,
   "metadata": {},
   "outputs": [],
   "source": [
    "import astropy.units as au\n",
    "import astropy.constants as ac\n",
    "\n",
    "# An example from the 4th Python-project. We want to calculate 'q' in units of the jupyter mass\n",
    "\n",
    "radial_vel = 55. * au.m / au.s\n",
    "period = 4.23 * au.day\n",
    "\n",
    "q_sun = (period / (2. * np.pi * ac.G * ac.M_sun))**(1/3) * radial_vel\n",
    "q_jupy = q_sun * ac.M_sun / ac.M_jup\n",
    "\n",
    "print(q_sun.to(au.dimensionless_unscaled))\n",
    "print(q_jupy.to(au.dimensionless_unscaled))"
   ]
  }
 ],
 "metadata": {
  "kernelspec": {
   "display_name": "Python 3 (ipykernel)",
   "language": "python",
   "name": "python3"
  },
  "language_info": {
   "codemirror_mode": {
    "name": "ipython",
    "version": 3
   },
   "file_extension": ".py",
   "mimetype": "text/x-python",
   "name": "python",
   "nbconvert_exporter": "python",
   "pygments_lexer": "ipython3",
   "version": "3.7.13"
  }
 },
 "nbformat": 4,
 "nbformat_minor": 4
}
