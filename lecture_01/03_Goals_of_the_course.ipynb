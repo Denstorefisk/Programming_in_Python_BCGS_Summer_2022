{
 "cells": [
  {
   "cell_type": "markdown",
   "metadata": {},
   "source": [
    "# Goals of the Course"
   ]
  },
  {
   "cell_type": "markdown",
   "metadata": {},
   "source": [
    "**We want to use our computers to solve scientific problems!**"
   ]
  },
  {
   "cell_type": "markdown",
   "metadata": {},
   "source": [
    "The following astronomical images reveals problematic areas that we sould like to exclude from further analysis. We would like to develop a program to identify and to mask these areas automatically. This is a typical task that you might face in your master or PhD thesis."
   ]
  },
  {
   "cell_type": "markdown",
   "metadata": {},
   "source": [
    "<img src=\"images/NGVS_nomask.jpg\" style=\"width: 500px;\">\n",
    "\n",
    "**Figure:** Optical astronomical image"
   ]
  },
  {
   "cell_type": "markdown",
   "metadata": {},
   "source": [
    "<img src=\"images/NGVS_mask.jpg\" style=\"width: 500px;\">\n",
    "\n",
    "**Figure:** Optical image with *automatically generated* masks"
   ]
  },
  {
   "cell_type": "markdown",
   "metadata": {},
   "source": [
    "## What do you need to learn?\n",
    "1. A (general purpose) programming language, its elements (data structures) and syntax. *All* general purpose languages can solve the same class of problems.\n",
    "2. For concrete problems you need specific algorithms **(simulations, differential equations, numerical mathematics)** \n",
    "3. You need **algorithmic thinking** - how can I decompose a given problem to solve it with available elements of my programming language.\n",
    "4. You need the ability to test the **correctness** of your program and a very good feeling for potential problems!\n",
    "\n",
    "In our course, we want to address points 1, 3 and 4. After the course, you will easily pick up special skills (point 2) that you need in your research area. Our course concentrates on practical aspects and the focus is on you actually developing programs in the `Python` programming language.\n",
    "\n",
    "**A Programming language is a language that you need to actively speak to master it!**"
   ]
  },
  {
   "cell_type": "code",
   "execution_count": null,
   "metadata": {},
   "outputs": [],
   "source": []
  }
 ],
 "metadata": {
  "kernelspec": {
   "display_name": "Python 3 (ipykernel)",
   "language": "python",
   "name": "python3"
  },
  "language_info": {
   "codemirror_mode": {
    "name": "ipython",
    "version": 3
   },
   "file_extension": ".py",
   "mimetype": "text/x-python",
   "name": "python",
   "nbconvert_exporter": "python",
   "pygments_lexer": "ipython3",
   "version": "3.7.13"
  }
 },
 "nbformat": 4,
 "nbformat_minor": 4
}
