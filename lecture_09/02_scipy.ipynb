{
 "cells": [
  {
   "cell_type": "markdown",
   "metadata": {},
   "source": [
    "# Scipy - scientific library for Python\n"
   ]
  },
  {
   "cell_type": "markdown",
   "metadata": {},
   "source": [
    "`scipy` is buildt on top of the `numpy` framework for multidimensional arrays, and provides a large number of higher-level scientific algorithms. Some of the topics that SciPy covers are:\n",
    "\n",
    "* Special functions ([scipy.special](http://docs.scipy.org/doc/scipy/reference/special.html))\n",
    "* Integration ([scipy.integrate](http://docs.scipy.org/doc/scipy/reference/integrate.html))\n",
    "* Optimization ([scipy.optimize](http://docs.scipy.org/doc/scipy/reference/optimize.html))\n",
    "* Interpolation ([scipy.interpolate](http://docs.scipy.org/doc/scipy/reference/interpolate.html))\n",
    "* Fourier Transforms ([scipy.fftpack](http://docs.scipy.org/doc/scipy/reference/fftpack.html))\n",
    "* Signal Processing ([scipy.signal](http://docs.scipy.org/doc/scipy/reference/signal.html))\n",
    "* Linear Algebra ([scipy.linalg](http://docs.scipy.org/doc/scipy/reference/linalg.html))\n",
    "* Sparse Eigenvalue Problems ([scipy.sparse](http://docs.scipy.org/doc/scipy/reference/sparse.html))\n",
    "* Statistics ([scipy.stats](http://docs.scipy.org/doc/scipy/reference/stats.html))\n",
    "* Multi-dimensional image processing ([scipy.ndimage](http://docs.scipy.org/doc/scipy/reference/ndimage.html))\n",
    "* File IO ([scipy.io](http://docs.scipy.org/doc/scipy/reference/io.html))\n",
    "\n",
    "Each of these submodules provides a number of functions and classes that can be used to solve problems in their respective topics.\n"
   ]
  },
  {
   "cell_type": "markdown",
   "metadata": {},
   "source": [
    "## Special functions\n",
    "Scipy implements a large amount of *special functions* (Bessel function,\n",
    "Airy function, orthogonal polynomials, ...) for numneric calculations. They can be used as functions within `numpy`."
   ]
  },
  {
   "cell_type": "code",
   "execution_count": null,
   "metadata": {},
   "outputs": [],
   "source": [
    "%matplotlib inline\n",
    "import matplotlib.pyplot as plt\n",
    "import numpy as np\n",
    "import scipy.special as ss\n",
    "\n",
    "# we plot the n\\in [1..3] Legendre polynomials.\n",
    "#\n",
    "x = np.linspace(-1.0, 1.0, 100)\n",
    "\n",
    "for n in range(1, 4):\n",
    "    y = ss.eval_legendre(n, x)\n",
    "    plt.plot(x, y, label=r\"$L_%d(x)$\" % n)\n",
    "    \n",
    "plt.legend()    "
   ]
  },
  {
   "cell_type": "markdown",
   "metadata": {},
   "source": [
    "## Numerical Integration"
   ]
  },
  {
   "cell_type": "markdown",
   "metadata": {},
   "source": [
    "Numerical evaluation of a function of the type\n",
    "\n",
    "$\\displaystyle \\int_a^b f(x)\\, \\text{d}x$\n",
    "\n",
    "is called *numerical integration*, or *quadature*.\n",
    "`Scipy` provides many funtions for quadrature, for example the `quad` and `dblquad` for single and double integrals, respectively."
   ]
  },
  {
   "cell_type": "markdown",
   "metadata": {},
   "source": [
    "In the follwoing I show simple examples to demonstrate the basic usage:"
   ]
  },
  {
   "cell_type": "code",
   "execution_count": null,
   "metadata": {},
   "outputs": [],
   "source": [
    "import scipy\n",
    "import scipy.integrate as si\n",
    "import numpy as np\n",
    "\n",
    "# A normalised Gauss function\n",
    "def gauss(x):\n",
    "    factor = (1.0 / np.sqrt(2.0 * np.pi))\n",
    "    expon = np.exp(-(x)**2 / 2.0)\n",
    "    \n",
    "    return factor * expon\n",
    "\n",
    "# lower and upper integration limits:\n",
    "x_lower = 0 # the lower limit of x\n",
    "x_upper = 1 # the upper limit of x\n",
    "\n",
    "result, abserr = si.quad(gauss, x_lower, x_upper)\n",
    "\n",
    "print(f\"integral value = {result}; absolute error = {abserr}\")\n",
    "\n",
    "# Also infinite limits are possible:\n",
    "result, abserr = si.quad(gauss, -scipy.Inf, scipy.Inf)\n",
    "\n",
    "print(f\"integral value = {result}; absolute error = {abserr}\")\n"
   ]
  },
  {
   "cell_type": "markdown",
   "metadata": {},
   "source": [
    "For simple functions we can use a lambda expression:"
   ]
  },
  {
   "cell_type": "code",
   "execution_count": null,
   "metadata": {},
   "outputs": [],
   "source": [
    "import scipy.integrate as si\n",
    "import numpy as np\n",
    "\n",
    "val, abserr = si.quad(lambda x: (np.sin(x) + np.cos(x)**2),\n",
    "                      0, np.pi / 2.)\n",
    "\n",
    "print(f\"result  = {val} +/- {abserr}\")\n"
   ]
  },
  {
   "cell_type": "markdown",
   "metadata": {},
   "source": [
    "Two-dimensional integrals work similarily"
   ]
  },
  {
   "cell_type": "code",
   "execution_count": null,
   "metadata": {},
   "outputs": [],
   "source": [
    "import scipy.integrate as si\n",
    "import numpy as np\n",
    "\n",
    "def integrand(x, y):\n",
    "    return np.exp(-x**2 - y**2)\n",
    "\n",
    "x_lower = 0  \n",
    "x_upper = 10\n",
    "y_lower = 0\n",
    "y_upper = 10\n",
    "\n",
    "# note that the y-limits depend on x in general;\n",
    "# hence they need to be given as functions of x!\n",
    "val, abserr = si.dblquad(integrand, x_lower, x_upper, lambda x : y_lower, lambda x: y_upper)\n",
    "\n",
    "print(val, abserr) "
   ]
  },
  {
   "cell_type": "markdown",
   "metadata": {},
   "source": [
    "## Optimization / Fitting"
   ]
  },
  {
   "cell_type": "markdown",
   "metadata": {},
   "source": [
    "Determining a parametric model $y = m(x; a_0, a_1, \\dots a_n)$, ($a_i$ are unknown parameters) to given data points\n",
    "$(x_i; y_i \\pm \\Delta y_i);\\; i\\in [1, \\dots, m]$ is called *data-fitting*. Usually the measurements $y_i$ come with some errors $\\Delta y_i$. `Scipy` offers several functions for data fitting and I will show you the simplest one: `curve_fit`. It determines the best fit parameters with the $\\chi^2$-method, i.e. it determines best fit parameters by minimizing the expression:\n",
    "\n",
    "$$\n",
    "\\chi^2 = \\sum_{i=1}^n\\frac{(y_i-m(x_i; a_0, a_1, \\dots a_n))^2}{(\\Delta y_i)^2}\n",
    "$$\n",
    "\n",
    "Please read the [curve_fit documentation](http://docs.scipy.org/doc/scipy/reference/generated/scipy.optimize.curve_fit.html#scipy.optimize.curve_fit) on details (error handling etc.)."
   ]
  },
  {
   "cell_type": "markdown",
   "metadata": {},
   "source": [
    "<img src=\"figs/chi2.png\" style=\"height: 300px;\">"
   ]
  },
  {
   "cell_type": "markdown",
   "metadata": {},
   "source": [
    "For demonstration purposes we perform a line fit on some fake data:"
   ]
  },
  {
   "cell_type": "code",
   "execution_count": null,
   "metadata": {},
   "outputs": [],
   "source": [
    "%matplotlib inline\n",
    "import matplotlib.pyplot as plt\n",
    "import numpy as np\n",
    "import numpy.random as nr\n",
    "import scipy.optimize as so\n",
    "\n",
    "# create some fake data and plot them:\n",
    "numpoints = 10 # the number of points we want to simulate\n",
    "x = np.random.uniform(0., 100., numpoints)\n",
    "# The error on each point comes from a normal distribution\n",
    "# with sigma = 10\n",
    "y = 2. * x + 2.6 + np.random.normal(0., 10., numpoints)\n",
    "plt.errorbar(x, y, yerr=10, fmt=\".\")"
   ]
  },
  {
   "cell_type": "code",
   "execution_count": null,
   "metadata": {},
   "outputs": [],
   "source": [
    "def fit_line(x, a, b):\n",
    "    return a * x + b\n",
    "\n",
    "# now perform the fit\n",
    "# Please read carefully the documentation to see how errors\n",
    "# are handled. In Physics we typically give absolute errors,\n",
    "# not relative ones!\n",
    "popt, pcov = so.curve_fit(fit_line, x, y,\n",
    "                          sigma = np.ones(y.shape) * 10, absolute_sigma=True)\n",
    "print(popt)\n",
    "print(pcov)\n",
    "print(f\"a = {popt[0]} +/- {np.sqrt(pcov[0][0])}\")\n",
    "print(f\"b = {popt[1]} +/- {np.sqrt(pcov[1][1])}\")\n",
    "\n",
    "x_fit = np.linspace(0.0, 100, 100)\n",
    "y_fit = fit_line(x_fit, *(popt))\n",
    "plt.errorbar(x, y, yerr=10, fmt=\".\")\n",
    "plt.plot(x_fit, y_fit, 'r-')"
   ]
  },
  {
   "cell_type": "markdown",
   "metadata": {},
   "source": [
    "### Careful when the fit parameters seem fine but not the errors"
   ]
  },
  {
   "cell_type": "code",
   "execution_count": null,
   "metadata": {},
   "outputs": [],
   "source": [
    "%matplotlib inline\n",
    "import matplotlib.pyplot as plt\n",
    "import numpy as np\n",
    "import numpy.random as nr\n",
    "import scipy.optimize as so\n",
    "\n",
    "def fit_func(x, a, b):\n",
    "    return a * np.exp(x + b)\n",
    "\n",
    "numpoints = 10 # the number of points we want to simulate\n",
    "x = np.random.uniform(-2., 2., numpoints)\n",
    "y = 0.2 * np.exp(x + 5) + np.random.normal(0., 10., numpoints)\n",
    "plt.errorbar(x, y, yerr=10, fmt=\".\")\n",
    "\n",
    "popt, pcov = so.curve_fit(fit_func, x, y,\n",
    "                          sigma = np.ones(y.shape) * 10, absolute_sigma=True)\n",
    "print(popt)\n",
    "print(pcov)\n",
    "x_fit = np.linspace(-2.0, 2.0, 20)\n",
    "plt.plot(x_fit, fit_func(x_fit, *(popt)), 'r-')"
   ]
  },
  {
   "cell_type": "markdown",
   "metadata": {},
   "source": [
    "### Warning: Do not use `curve_fit` if you have errors in both variables"
   ]
  },
  {
   "cell_type": "code",
   "execution_count": null,
   "metadata": {},
   "outputs": [],
   "source": [
    "%matplotlib inline\n",
    "import matplotlib.pyplot as plt\n",
    "import numpy as np\n",
    "import numpy.random as nr\n",
    "import scipy.optimize as so\n",
    "\n",
    "def fit_line(x, a, b):\n",
    "    return a * x + b\n",
    "\n",
    "# create some fake data with errors in 'both' coordinates and plot them:\n",
    "numpoints = 50 # the number of points we want to simulate\n",
    "x = np.random.uniform(0., 100., numpoints)\n",
    "y = x\n",
    "\n",
    "# add errors in x and y\n",
    "x = x + np.random.normal(0., 10., numpoints)\n",
    "y = y + np.random.normal(0., 10., numpoints)\n",
    "\n",
    "plt.errorbar(x, y, xerr=10, yerr=10, fmt=\".\")\n",
    "\n",
    "# perform a fit as we did before (neglecting errors in x!):\n",
    "popt, pcov = so.curve_fit(fit_line, x, y,\n",
    "                          sigma = np.ones(y.shape) * 10, absolute_sigma=True)\n",
    "plt.plot(x, fit_line(x, *(popt)), 'r-')\n",
    "print(popt)\n",
    "\n",
    "# now change the roles of x and y and fit again:\n",
    "x1, y1 = y, x\n",
    "popt, pcov = so.curve_fit(fit_line, x1, y1,\n",
    "                          sigma = np.ones(y.shape) * 10, absolute_sigma=True)\n",
    "plt.plot(x1, fit_line(x1, *(popt)), 'g-')\n",
    "print(popt)\n",
    "# Note that you do not get the 'inverse' of the first fit as you might expect!"
   ]
  },
  {
   "cell_type": "markdown",
   "metadata": {},
   "source": [
    "For fits with errors in $x$ and $y$ you have to use other methods such as *Orthogonal distance regression*. I give you an example script with [chi2FitXYErr.py](code/chi2FitXYErr.py)."
   ]
  },
  {
   "cell_type": "code",
   "execution_count": null,
   "metadata": {},
   "outputs": [],
   "source": [
    "!cat ./data/dataxy.txt\n",
    "!cat ./data/dataxy_reversed.txt"
   ]
  },
  {
   "cell_type": "code",
   "execution_count": null,
   "metadata": {},
   "outputs": [],
   "source": [
    "%run ./code/chi2FitXYErr.py -i ./data/dataxy.txt"
   ]
  },
  {
   "cell_type": "code",
   "execution_count": null,
   "metadata": {},
   "outputs": [],
   "source": [
    "# The fit-result from the reversed data set also gives a 'inverse' line!\n",
    "%run ./code/chi2FitXYErr.py -i ./data/dataxy_reversed.txt"
   ]
  },
  {
   "cell_type": "markdown",
   "metadata": {},
   "source": [
    "## Ordinary Differential Equations\n",
    "`scipy` offers several functions to *numerically* solve Ordinary Differential Equations (ODEs). We look more closely at `odeint` within the `scipy.integrate`-module."
   ]
  },
  {
   "cell_type": "markdown",
   "metadata": {
    "tags": []
   },
   "source": [
    "# First Order ODEs\n",
    "\n",
    "Most ODEs in physics are of second order. However, most numeric ODE solvers *only* can deal with first order equations. \n",
    "\n",
    "We start with:\n",
    "\n",
    "$$ \\frac{dx}{dt} -xt = 0 \\hspace{10mm} x(0) = 0.5$$\n",
    "\n",
    "The first thing we need to do is write it in the form\n",
    "\n",
    "$$\\frac{dx}{dt} = \\dot{x} = f(t,x)$$\n",
    "\n",
    "In other words, \"derivative of x equals something that depends on $x$ and time\". This is easy in this example:\n",
    "\n",
    "$$\\frac{dx}{dt} = xt.$$\n",
    "\n",
    "<img src=\"figs/dgl_field.png\" style=\"height: 300px;\">\n",
    "\n",
    "To numerically solve the ODE, we need to write it first in **python form**:"
   ]
  },
  {
   "cell_type": "code",
   "execution_count": null,
   "metadata": {},
   "outputs": [],
   "source": [
    "import numpy as np\n",
    "import matplotlib.pyplot as plt\n",
    "import scipy.integrate as si"
   ]
  },
  {
   "cell_type": "code",
   "execution_count": null,
   "metadata": {},
   "outputs": [],
   "source": [
    "def dxdt(x, t):\n",
    "    return x * t\n",
    "\n",
    "x0 = 0.5"
   ]
  },
  {
   "cell_type": "markdown",
   "metadata": {},
   "source": [
    "Solve differential equation. There are two main solvers in scipy\n",
    "\n",
    "* `odeint`: Pretty classic, uses a particular solve called lsoda from the FORTRAN library odepack\n",
    "* `solve_ivp`: More customizable, can choose from a list of possible solvers\n",
    "\n",
    "Please have a closer look at `solve_ivp` when your fields requires solving complex ODEs. For *simple* cases of our course, `odeint` is sufficient."
   ]
  },
  {
   "cell_type": "code",
   "execution_count": null,
   "metadata": {},
   "outputs": [],
   "source": [
    "t = np.linspace(0, 2, 50)\n",
    "\n",
    "sol = si.odeint(dxdt, y0=x0, t=t)"
   ]
  },
  {
   "cell_type": "markdown",
   "metadata": {},
   "source": [
    "Look at the solution. It will become obvious why it is returned in this form once we deal with systems of ODEs (what these solvers are really meant for)"
   ]
  },
  {
   "cell_type": "code",
   "execution_count": null,
   "metadata": {},
   "outputs": [],
   "source": [
    "sol"
   ]
  },
  {
   "cell_type": "markdown",
   "metadata": {},
   "source": [
    "Plot"
   ]
  },
  {
   "cell_type": "code",
   "execution_count": null,
   "metadata": {},
   "outputs": [],
   "source": [
    "plt.plot(t, sol[:,0])\n",
    "plt.ylabel('$x(t)$', fontsize=15)\n",
    "plt.xlabel('$t$', fontsize=15)"
   ]
  },
  {
   "cell_type": "markdown",
   "metadata": {
    "tags": []
   },
   "source": [
    "# Coupled first order ODEs\n",
    "\n",
    "$$ \\dot{x}_1 = x_1 + x_2^2 + 3t \\hspace{10mm} x_1(0)=0$$\n",
    "$$ \\dot{x}_2 = 3x_1 + x_2^3 - \\cos(t) \\hspace{10mm} x_2(0)=0$$\n",
    "\n",
    "Letting $S=(x_1, x_2)$ we need to write a function that returns $dS/dt = (dx_1/dt, dx_2/dt)$. The function $dS/dt$ can take in $S=(x_1, x_2)$ and $t$. This is like before, but in vector format\n",
    "\n",
    "$$ \\vec{S} = \\begin{bmatrix} x_1 \\\\ x_2 \\end{bmatrix} \\hspace{10mm} \\implies  \\hspace{10mm} \\frac{d\\vec{S}}{dt} = \\vec{f}(\\vec{S}, t) = \\vec{f}(x_1, x_2, t) =  \\begin{bmatrix} \\dot{x}_1 \\\\ \\dot{x}_2 \\end{bmatrix}  = \\begin{bmatrix}  x_1 + x_2^2 + 3t\\\\ 3x_1 + x_2^3 - \\cos(t) \\end{bmatrix}$$"
   ]
  },
  {
   "cell_type": "code",
   "execution_count": null,
   "metadata": {},
   "outputs": [],
   "source": [
    "def dSdt(S, t):\n",
    "    x1, x2 = S\n",
    "    return (x1 + x2**2  + 3*t,\n",
    "            3*x1 + x2**3 - np.cos(t))\n",
    "x1_0 = 0\n",
    "x2_0 = 0\n",
    "S_0 = (x1_0, x2_0)"
   ]
  },
  {
   "cell_type": "markdown",
   "metadata": {},
   "source": [
    "Solve this ODE"
   ]
  },
  {
   "cell_type": "code",
   "execution_count": null,
   "metadata": {},
   "outputs": [],
   "source": [
    "t = np.linspace(0, 1, 100)\n",
    "sol = si.odeint(dSdt, y0=S_0, t=t)"
   ]
  },
  {
   "cell_type": "markdown",
   "metadata": {},
   "source": [
    "Plot $x_1$ and $x_2$ from the solution"
   ]
  },
  {
   "cell_type": "code",
   "execution_count": null,
   "metadata": {},
   "outputs": [],
   "source": [
    "plt.plot(t, sol[:,0], label=\"$x_1$\")\n",
    "plt.plot(t, sol[:,1], label=\"$x_2$\")\n",
    "plt.legend()"
   ]
  },
  {
   "cell_type": "markdown",
   "metadata": {},
   "source": [
    "# Second Order ODEs"
   ]
  },
  {
   "cell_type": "markdown",
   "metadata": {},
   "source": [
    "**Python does not have functions to directly solve second order ODEs**. \n",
    "* But **any second order ODE can be converted into two first order ODEs**.\n",
    "\n",
    "Consider \n",
    "\n",
    "$$\\ddot{x} = -\\dot{x}^2 + \\sin(x)$$\n",
    "\n",
    "We can convert this into two first order ODEs as follows:\n",
    "\n",
    "* Take $x$ (this is what we're trying to solve for). Then define $\\dot{x}=v$ so that $v$ becomes a new variable.\n",
    "* Note that $\\dot{x}=v$ is one differential equation of first order.\n",
    "* Since $\\dot{v} = \\ddot{x} = -\\dot{x}^2 + \\sin(x) = -v^2 + \\sin(x)$ we get another differential equation of first order.\n",
    "\n",
    "Our two equations:\n",
    "\n",
    "$$\\dot{x} = v$$\n",
    "$$\\dot{v} = -v^2 + \\sin(x)$$\n",
    "\n",
    "These are two coupled first order equations. They require an initial condition ($x_0$ and $v_0$)\n",
    "\n",
    "$$ \\vec{S} = \\begin{bmatrix} x \\\\ v \\end{bmatrix} \\hspace{10mm} \\implies  \\hspace{10mm} \\frac{d\\vec{S}}{dt} = \\vec{f}(\\vec{S}, t) = \\vec{f}(x, v, t) =  \\begin{bmatrix} x' \\\\ v' \\end{bmatrix}  = \\begin{bmatrix}  v\\\\ -v^2 + \\sin(x)\\end{bmatrix}$$"
   ]
  },
  {
   "cell_type": "code",
   "execution_count": null,
   "metadata": {},
   "outputs": [],
   "source": [
    "def dSdt(S, t):\n",
    "    x, v = S\n",
    "    return (v,\n",
    "           -v**2 + np.sin(x))\n",
    "x_0 = 0\n",
    "v_0 = 5\n",
    "S_0 = (x_0, v_0)"
   ]
  },
  {
   "cell_type": "code",
   "execution_count": null,
   "metadata": {},
   "outputs": [],
   "source": [
    "t = np.linspace(0, 1, 100)\n",
    "sol = si.odeint(dSdt, y0=S_0, t=t)"
   ]
  },
  {
   "cell_type": "code",
   "execution_count": null,
   "metadata": {},
   "outputs": [],
   "source": [
    "plt.plot(t, sol[:,0], label=\"x\")\n",
    "plt.plot(t, sol[:,1], label=\"$v = \\dot{x}$\")\n",
    "plt.legend()"
   ]
  },
  {
   "cell_type": "markdown",
   "metadata": {},
   "source": [
    "This process can be repeated for third order (required defining two new variables) fourth order (requires defining three new variables) and so on..."
   ]
  },
  {
   "cell_type": "markdown",
   "metadata": {},
   "source": [
    "**Example:** Two coupled third order equations\n",
    "\n",
    "$$\\dddot{x_2}= -\\ddot{x_1}^3 + \\dot{x_2} + x_1 + \\sin(t)$$\n",
    "$$\\dddot{x_1}= -2\\dot{x_2}^2 + x_2$$"
   ]
  },
  {
   "cell_type": "markdown",
   "metadata": {},
   "source": [
    "Define \n",
    "* $v_1 = \\dot{x_1}$\n",
    "* $v_2 = \\dot{x_2}$\n",
    "* $w_1 = \\ddot{x_1} = \\dot{v_1}$\n",
    "* $w_2 = \\ddot{x_2} = \\dot{v_2}$\n",
    "\n",
    "These make up four differential equations. Then noting that $\\dot{w_1} = \\dddot{x_1}$ and $\\dot{w_2} = \\dddot{x_2}$ we get\n",
    "\n",
    "* $\\dot{w_2} = -w_1^3 + v_2 + x_1 + \\sin(t)$\n",
    "* $\\dot{w_1} = -2v_2^2 + x_2$\n",
    "\n",
    "Then\n",
    "\n",
    "$$\\vec{S} = \\begin{bmatrix} x_1\\\\ v_1 \\\\ w_1 \\\\ x_2 \\\\ v_2 \\\\ w_2 \\end{bmatrix} \\hspace{10mm} \\implies \\hspace{10mm} \\frac{d\\vec{S}}{dt} = \\begin{bmatrix} \\dot{x_1}\\\\ \\dot{v_1} \\\\ \\dot{w_1} \\\\ \\dot{x_2} \\\\ \\dot{v_2} \\\\ \\dot{w_2} \\end{bmatrix} =  \\begin{bmatrix} v_1\\\\ w_1 \\\\ -2v_2^2 + x_2 \\\\ v_2 \\\\ w_2 \\\\ -w_1^3 + v_2 + x_1 + \\sin(t) \\end{bmatrix}$$"
   ]
  },
  {
   "cell_type": "code",
   "execution_count": null,
   "metadata": {},
   "outputs": [],
   "source": [
    "def dSdt(S, t):\n",
    "    x1, v1, w1, x2, v2, w2 = S\n",
    "    return [v1,\n",
    "            w1,\n",
    "            -2*v2**2 + x2,\n",
    "            v2,\n",
    "            w2,\n",
    "            -w1**3 + v2 + v1 + np.sin(t)]\n",
    "x1_0 = 0\n",
    "v1_0 = 0\n",
    "w1_0 = 0\n",
    "x2_0 = 0\n",
    "v2_0 = 0\n",
    "w2_0 = 0\n",
    "v_0 = 0\n",
    "S_0 = (x1_0, v1_0, w1_0, x2_0, v2_0, w2_0)"
   ]
  },
  {
   "cell_type": "code",
   "execution_count": null,
   "metadata": {},
   "outputs": [],
   "source": [
    "t = np.linspace(0, 1, 100)\n",
    "sol = si.odeint(dSdt, y0=S_0, t=t)"
   ]
  },
  {
   "cell_type": "code",
   "execution_count": null,
   "metadata": {},
   "outputs": [],
   "source": [
    "plt.plot(t,sol[:,0], label=\"x1\")\n",
    "plt.plot(t,sol[:,3], label=\"x2\")\n",
    "plt.legend()"
   ]
  },
  {
   "cell_type": "code",
   "execution_count": null,
   "metadata": {},
   "outputs": [],
   "source": []
  }
 ],
 "metadata": {
  "kernelspec": {
   "display_name": "Python 3 (ipykernel)",
   "language": "python",
   "name": "python3"
  },
  "language_info": {
   "codemirror_mode": {
    "name": "ipython",
    "version": 3
   },
   "file_extension": ".py",
   "mimetype": "text/x-python",
   "name": "python",
   "nbconvert_exporter": "python",
   "pygments_lexer": "ipython3",
   "version": "3.7.13"
  }
 },
 "nbformat": 4,
 "nbformat_minor": 4
}
