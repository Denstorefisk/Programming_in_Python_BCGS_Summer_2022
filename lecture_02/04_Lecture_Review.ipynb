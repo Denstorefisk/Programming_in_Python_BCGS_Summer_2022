{
 "cells": [
  {
   "cell_type": "markdown",
   "metadata": {},
   "source": [
    "# Review Tasks for the lecture"
   ]
  },
  {
   "cell_type": "markdown",
   "metadata": {},
   "source": [
    "Here some small tasks with that you should be able to do directly after the lecture. I strongly advise you to look at them before the exercise. It gives you the opportunity to check what you did not yet understand and to ask your tutor in the case of problems."
   ]
  },
  {
   "cell_type": "markdown",
   "metadata": {},
   "source": [
    "## Mathematical expressions"
   ]
  },
  {
   "cell_type": "markdown",
   "metadata": {},
   "source": [
    "- Calculate the expressions: $2 + 4 \\cdot 3$, $5^{5^{5}}$, $\\mathrm{e}^{-1}$\n",
    "and $\\left({49 \\atop 6}\\right)=\\frac{49!}{6! 43!}$\n",
    "\n",
    "  **Hint:** You can use the functions `numpy.exp` and `numpy.math.factorial` to obatin Eulers number and factorials respectively."
   ]
  },
  {
   "cell_type": "markdown",
   "metadata": {},
   "source": [
    "- Write down a ```Python``` expression which evaluates to ```True```\n",
    "if $1 < x \\leq 10$ and to ```False``` otherwise."
   ]
  },
  {
   "cell_type": "code",
   "execution_count": null,
   "metadata": {},
   "outputs": [],
   "source": [
    "# your solution here"
   ]
  },
  {
   "cell_type": "markdown",
   "metadata": {},
   "source": [
    "## Control Structures"
   ]
  },
  {
   "cell_type": "markdown",
   "metadata": {},
   "source": [
    "- What is the output of the print statements in the following code fragements? Answer the question before executing the codes!\n",
    "\n",
    "  ```\n",
    "  a = 1\n",
    "  i = 1\n",
    "  while i < 5:\n",
    "      i = i + 1\n",
    "      a = a + 1\n",
    "  print(i, a)    \n",
    "  ```\n",
    "  and\n",
    "  ```\n",
    "  a = 1\n",
    "  i = 1\n",
    "  while i < 5:\n",
    "      i = i + 1\n",
    "  a = a + 1\n",
    "  print(i, a)\n",
    "  ```"
   ]
  },
  {
   "cell_type": "code",
   "execution_count": null,
   "metadata": {},
   "outputs": [],
   "source": [
    "# You can try it here"
   ]
  },
  {
   "cell_type": "markdown",
   "metadata": {},
   "source": [
    "- write a Python-program to calculate $\\sum_{i=1}^{10} i^3$ with a `while`-loop and print the result.\n",
    "\n",
    "  **Hint:** The result of the expression is 3025."
   ]
  },
  {
   "cell_type": "code",
   "execution_count": null,
   "metadata": {},
   "outputs": [],
   "source": [
    "# your solution here"
   ]
  },
  {
   "cell_type": "markdown",
   "metadata": {},
   "source": [
    "- $x$ and $y$ are integer numbers. Write a python program which determines whether $x<y$, $x>y$ or $x=y$ and prints out the result!\n",
    "\n",
    "  **Hint:** Nested ```if```-statements"
   ]
  },
  {
   "cell_type": "code",
   "execution_count": null,
   "metadata": {},
   "outputs": [],
   "source": [
    "# your solution here"
   ]
  },
  {
   "cell_type": "markdown",
   "metadata": {},
   "source": [
    "- Explain in plain English, what the following program is doing"
   ]
  },
  {
   "cell_type": "code",
   "execution_count": null,
   "metadata": {},
   "outputs": [],
   "source": [
    "i = 1\n",
    "total = 0\n",
    "\n",
    "while i <= 509:\n",
    "    if i % 3 == 0 or i % 5 == 0:\n",
    "        total = total + i\n",
    "    i = i + 1\n",
    "        \n",
    "print(\"The total sum is: \", total)        "
   ]
  },
  {
   "cell_type": "markdown",
   "metadata": {},
   "source": [
    "# your solution here"
   ]
  },
  {
   "cell_type": "markdown",
   "metadata": {},
   "source": [
    "## An easy one?"
   ]
  },
  {
   "cell_type": "code",
   "execution_count": null,
   "metadata": {},
   "outputs": [],
   "source": [
    "a = 5\n",
    "b = 2"
   ]
  },
  {
   "cell_type": "markdown",
   "metadata": {},
   "source": [
    "Write code which *exchanges* the values of the variables `a` and `b`.\n",
    "\n",
    "**Hint:** This is a classic problem and each C-Programmer learns in one of his first lessons how to do it with three statements. In Python, it can be done with **one** statement!"
   ]
  },
  {
   "cell_type": "code",
   "execution_count": null,
   "metadata": {},
   "outputs": [],
   "source": [
    "# your solution hereb"
   ]
  },
  {
   "cell_type": "markdown",
   "metadata": {},
   "source": [
    "## Something to think about"
   ]
  },
  {
   "cell_type": "markdown",
   "metadata": {},
   "source": [
    "We saw in lecture that numerics with floats is *not exact*. I developed a small module, `lpf` which allows us to perform float operations with an accuracy of four digits. We want to investigate consequences that we can do calculations only with a limit number of digits. For the following to work, the files `lpf.py` anf `lpf_example.py` need to be in the same folder as this notebook."
   ]
  },
  {
   "cell_type": "code",
   "execution_count": null,
   "metadata": {},
   "outputs": [],
   "source": [
    "import lpf\n",
    "\n",
    "# usual Python float arithmetics\n",
    "x = 1.0\n",
    "y = 1.2229\n",
    "print(x + y)\n",
    "\n",
    "# LPF-numbers do all floating point operations with four digits:\n",
    "a = lpf.LPF(1.0)\n",
    "b = lpf.LPF(1.2229)\n",
    "\n",
    "print(a + b)"
   ]
  },
  {
   "cell_type": "markdown",
   "metadata": {},
   "source": [
    "The following cell demonstrates that mathematical identities that we take for granted are not valid in numerical computations!"
   ]
  },
  {
   "cell_type": "code",
   "execution_count": null,
   "metadata": {},
   "outputs": [],
   "source": [
    "import lpf\n",
    "\n",
    "# Demonstration for numeric problems in computing with 'low-precision-floats\n",
    "# (lpf)'\n",
    "# The file 'lpf.py' must be in the same folder as this script.\n",
    "\n",
    "# Note that all problems demonstrated in this script also occur with the\n",
    "# Python-float types. They only difference is that lpf does all\n",
    "# float-calculations with four significant digits, while the Python-float type\n",
    "# uses 15.\n",
    "\n",
    "# show failure of associative and commutative laws:\n",
    "u, v, w = lpf.LPF(1113), lpf.LPF(-1111), lpf.LPF(7.511)\n",
    "\n",
    "print((u + v) + w, u + (v + w))\n",
    "print(u + v + w, v + w + u)\n",
    "\n",
    "# Show failure of the distributive law\n",
    "u, v, w = lpf.LPF(2000), lpf.LPF(-6), lpf.LPF(6.003)\n",
    "\n",
    "print(u * v, u * w, v + w)\n",
    "print(u * v + u * w, u * (v + w))\n",
    "\n",
    "# show that the relation 'eps > 0' is not equaivalent to 'a + eps > a':\n",
    "a = lpf.LPF(1.0)\n",
    "\n",
    "eps = 0.0001\n",
    "\n",
    "print(eps > 0, a + eps > a)\n"
   ]
  },
  {
   "cell_type": "markdown",
   "metadata": {},
   "source": [
    "### The Task"
   ]
  },
  {
   "cell_type": "markdown",
   "metadata": {},
   "source": [
    "We want to calculate the sum $\\sum_{n=1}^{1000} \\frac 1n$ and we do this in the following cells in two, *mathematically equaivalent* ways. Which result is more correct? Can you give a rule, how such sums should be evaluated.\n",
    "\n",
    "**Bonus:** Can you argue, why sich sums should be calculated in that way?"
   ]
  },
  {
   "cell_type": "code",
   "execution_count": null,
   "metadata": {},
   "outputs": [],
   "source": [
    "# first estimation of the sum\n",
    "import lpf\n",
    "\n",
    "n = 1\n",
    "s = lpf.LPF(0.)\n",
    "while n <= 1000:\n",
    "    s = s + (1 / n)\n",
    "    n = n + 1\n",
    "    \n",
    "print(\"The sum is: \", s)    "
   ]
  },
  {
   "cell_type": "code",
   "execution_count": null,
   "metadata": {},
   "outputs": [],
   "source": [
    "# second estimation of the sum\n",
    "import lpf\n",
    "\n",
    "n = 1000\n",
    "s = lpf.LPF(0.)\n",
    "#s = 0.\n",
    "while n >= 1:\n",
    "    s = s + (1 / n)\n",
    "    n = n - 1\n",
    "    \n",
    "print(\"The sum is: \", s)    "
   ]
  }
 ],
 "metadata": {
  "kernelspec": {
   "display_name": "Python 3 (ipykernel)",
   "language": "python",
   "name": "python3"
  },
  "language_info": {
   "codemirror_mode": {
    "name": "ipython",
    "version": 3
   },
   "file_extension": ".py",
   "mimetype": "text/x-python",
   "name": "python",
   "nbconvert_exporter": "python",
   "pygments_lexer": "ipython3",
   "version": "3.7.13"
  }
 },
 "nbformat": 4,
 "nbformat_minor": 4
}
