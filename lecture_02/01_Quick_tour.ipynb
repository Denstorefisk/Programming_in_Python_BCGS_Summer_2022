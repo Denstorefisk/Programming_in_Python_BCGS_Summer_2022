{
 "cells": [
  {
   "cell_type": "markdown",
   "metadata": {},
   "source": [
    "# A quick tour through the term"
   ]
  },
  {
   "cell_type": "markdown",
   "metadata": {},
   "source": [
    "## What do we do?\n",
    "- We learn `Python`, a subset of its elements (data structures) and syntax. *Most* languages are very similar in their building blocks (see below). This part is covered in books such as `Learn programming language XX in 21 days`.\n",
    "- We learn **algorithmic thinking** - how can I decompose a given problem to solve it with available elements of my programming language,\n",
    "- You need the ability to test the **correctness** of your program and a very good feeling for potential problems!\n",
    "\n",
    "**A Programming language is a language that you need to actively speak to master it!**"
   ]
  },
  {
   "cell_type": "markdown",
   "metadata": {},
   "source": [
    "<img src=\"./images/NGVS_nomask.jpg\" style=\"width: 350px;\"> <img src=\"./images/NGVS_mask.jpg\" style=\"width: 350px;\">\n",
    "\n",
    "**Figure:** Optical image with *automatically generated* masks"
   ]
  },
  {
   "cell_type": "markdown",
   "metadata": {},
   "source": [
    "## Elements of a programming language\n",
    "- Input and output (Interaction with the user)\n",
    "- Manipulation of memory and variables\n",
    "- elementary mathematics\n",
    "- conditional program execution\n",
    "- loops (repetition of code parts with variable parameters)\n",
    "- functions\n",
    "- comments\n",
    "\n",
    "- **(Libraries for your applications)**"
   ]
  },
  {
   "cell_type": "markdown",
   "metadata": {},
   "source": [
    "## Implementation of an algorithm to estimage $\\sqrt{x}$"
   ]
  },
  {
   "cell_type": "code",
   "execution_count": null,
   "metadata": {},
   "outputs": [],
   "source": [
    "import sys\n",
    "import numpy as np\n",
    "\n",
    "def my_sqrt(x, eps):\n",
    "    \"\"\"\n",
    "    estimate the square root of x up to a given\n",
    "    accuracy eps.\n",
    "    \"\"\"\n",
    "    a = 0.\n",
    "    b = x \n",
    "    middle = (a + b) / 2.\n",
    "    \n",
    "    n = 0\n",
    "    while (b - a) > eps and n < 1000:\n",
    "        if (middle**2) < x:\n",
    "            a = (a + b) / 2.\n",
    "        else:\n",
    "            b = (a + b) / 2.\n",
    "\n",
    "        middle = (a + b) / 2.\n",
    "        n = n + 1\n",
    "\n",
    "    if n == 1000:\n",
    "        print(\"This should not happen!\", file=sys.stderr)\n",
    "        return None\n",
    "\n",
    "    return middle\n",
    "   \n",
    "our_est = my_sqrt(2.0, 1.0e-6)\n",
    "numpy_est = np.sqrt(2.0)\n",
    "\n",
    "print(our_est, numpy_est - our_est)"
   ]
  }
 ],
 "metadata": {
  "kernelspec": {
   "display_name": "Python 3 (ipykernel)",
   "language": "python",
   "name": "python3"
  },
  "language_info": {
   "codemirror_mode": {
    "name": "ipython",
    "version": 3
   },
   "file_extension": ".py",
   "mimetype": "text/x-python",
   "name": "python",
   "nbconvert_exporter": "python",
   "pygments_lexer": "ipython3",
   "version": "3.7.13"
  }
 },
 "nbformat": 4,
 "nbformat_minor": 4
}
