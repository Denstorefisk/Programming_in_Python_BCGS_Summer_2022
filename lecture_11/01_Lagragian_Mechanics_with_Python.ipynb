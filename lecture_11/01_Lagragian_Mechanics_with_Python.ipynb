{
 "cells": [
  {
   "cell_type": "markdown",
   "id": "1b7055fe-3070-41c7-88d1-23af9b8f1328",
   "metadata": {
    "tags": []
   },
   "source": [
    "# Double pendulum with `python` and `sympy`"
   ]
  },
  {
   "cell_type": "markdown",
   "id": "700fb14a-2096-469d-8fef-25407ea6185f",
   "metadata": {},
   "source": [
    "We want to solve the equations of motion for the double pendulum. It is a classics in Theoretical physics which cannot be solved generally without numerics."
   ]
  },
  {
   "cell_type": "markdown",
   "id": "74470537-7767-40ad-938a-a29f43cfd32d",
   "metadata": {},
   "source": [
    "<img src=\"figs/double_pendulum.png\" height=100 />"
   ]
  },
  {
   "cell_type": "markdown",
   "id": "a9c6765d-c4fe-4c89-b26b-7dc169b1f933",
   "metadata": {},
   "source": [
    "## Lagrangian Mechanics"
   ]
  },
  {
   "cell_type": "markdown",
   "id": "978d2eca-f9c1-4e37-9628-9e1af4834168",
   "metadata": {},
   "source": [
    "The (simplified) idea of Lagrangian mechanics is the that kinetic energy and potential energy of a system can be expressed in terms of generalized coordinates and velocities\n",
    "\n",
    "$$T = T(q,\\dot{q}) \\hspace{20mm} V=V(q,\\dot{q})$$\n",
    "\n",
    "where $q$ could be $x, y, z$ of a point particle, or some angle $\\theta$ (pendulum), or whatever makes the problem easiest to solve. The Lagragian $L=T-V$ together with the following equation gives the equations of motion $q(t)$\n",
    "\n",
    "$$\\frac{dL}{dq} - \\frac{d}{dt}\\frac{dL}{d\\dot{q}} = 0 $$\n",
    "\n",
    "for all the different $q$'s of the system. The equation above gives a second order differential equation for all the different $q(t)$s."
   ]
  },
  {
   "cell_type": "markdown",
   "id": "e7b7d470-27b8-4547-8dbb-1efdb2f4ac27",
   "metadata": {},
   "source": [
    "In the following, we will use `sympy` to build up the Lagragian of the double pendulum and solve the resulting differential equations numerically with `odeint`."
   ]
  },
  {
   "cell_type": "code",
   "execution_count": null,
   "id": "86c9ece2-4614-4b4f-ad03-ac24d3c49123",
   "metadata": {},
   "outputs": [],
   "source": [
    "import sympy as sp\n",
    "import numpy as np\n",
    "import scipy.integrate as si\n",
    "import matplotlib.pyplot as plt\n",
    "from matplotlib import animation"
   ]
  },
  {
   "cell_type": "markdown",
   "id": "83615b8d-86a2-4bef-84f7-762ab32448ba",
   "metadata": {},
   "source": [
    "Define relevant `sympy`-quantities: "
   ]
  },
  {
   "cell_type": "code",
   "execution_count": null,
   "id": "3fcab760-e492-40fc-a26e-2c59936729b6",
   "metadata": {},
   "outputs": [],
   "source": [
    "L1, L2, t, m1, m2, g = sp.symbols(r'L_1 L_2 t m_1 m_2 g')\n",
    "theta1, theta2 = sp.symbols(r'\\theta_1 \\theta_2', cls=sp.Function)\n",
    "theta1 = theta1(t)\n",
    "theta2 = theta2(t)"
   ]
  },
  {
   "cell_type": "code",
   "execution_count": null,
   "id": "812f0e66-6424-42b9-a45c-ce3bf858e8fa",
   "metadata": {},
   "outputs": [],
   "source": [
    "theta1_d = sp.diff(theta1, t)\n",
    "theta2_d = sp.diff(theta2, t)\n",
    "theta1_dd = sp.diff(theta1_d, t)\n",
    "theta2_dd = sp.diff(theta2_d, t)"
   ]
  },
  {
   "cell_type": "markdown",
   "id": "f9a0392c-fd28-4f6e-a76f-9f6ff2f0f466",
   "metadata": {},
   "source": [
    "Define $x,y$-location of pendulum. This allows us to easily obtain necessary potential and kinetic energies of the system:"
   ]
  },
  {
   "cell_type": "code",
   "execution_count": null,
   "id": "bc9f6dfd-c774-40b3-9825-fdecc2845b78",
   "metadata": {},
   "outputs": [],
   "source": [
    "x1 = L1 * sp.sin(theta1)\n",
    "y1 = -L1 * sp.cos(theta1)\n",
    "x2 = x1 + L2 * sp.sin(theta2)\n",
    "y2 = y1 - L2 * sp.cos(theta2)"
   ]
  },
  {
   "cell_type": "markdown",
   "id": "97e21794-1ce2-41e5-bfc4-5866211dc9bc",
   "metadata": {},
   "source": [
    "Get kinetic and potential energies:"
   ]
  },
  {
   "cell_type": "code",
   "execution_count": null,
   "id": "0701df61-bdc2-4690-bdd2-1f1196843149",
   "metadata": {},
   "outputs": [],
   "source": [
    "T1 = sp.Rational(1, 2) * m1 * (sp.diff(x1, t)**2 + sp.diff(y1, t)**2)\n",
    "V1 = m1 * g * y1\n",
    "T2 = sp.Rational(1, 2) * m2 * (sp.diff(x2, t)**2 + sp.diff(y2, t)**2)\n",
    "V2 = m2 * g * y2\n",
    "T = T1 + T2\n",
    "V = V1 + V2"
   ]
  },
  {
   "cell_type": "code",
   "execution_count": null,
   "id": "02ddf310-d1da-4cbf-9590-c08475c8074e",
   "metadata": {},
   "outputs": [],
   "source": [
    "T.simplify()"
   ]
  },
  {
   "cell_type": "markdown",
   "id": "baecfb5e-03b0-4704-a169-c0a265807204",
   "metadata": {},
   "source": [
    "Get Lagragian:"
   ]
  },
  {
   "cell_type": "code",
   "execution_count": null,
   "id": "b10ee35b-102d-4089-a724-4f0c725ec3ce",
   "metadata": {},
   "outputs": [],
   "source": [
    "L = T - V\n",
    "L.simplify()"
   ]
  },
  {
   "cell_type": "markdown",
   "id": "af75d29d-38ca-4d48-8c11-83806b386ede",
   "metadata": {},
   "source": [
    "Get Lagrange's equations\n",
    "\n",
    "$$\\frac{\\partial L}{\\partial \\theta_1} - \\frac{d}{dt}\\frac{\\partial L}{\\partial \\dot{\\theta_1}} = 0$$\n",
    "$$\\frac{\\partial L}{\\partial \\theta_2} - \\frac{d}{dt}\\frac{\\partial L}{\\partial \\dot{\\theta_2}} = 0$$"
   ]
  },
  {
   "cell_type": "code",
   "execution_count": null,
   "id": "66b49ac6-c67e-40dc-8a6e-b22beaf015c7",
   "metadata": {},
   "outputs": [],
   "source": [
    "LE1 = sp.diff(L, theta1) - sp.diff(sp.diff(L, theta1_d), t)\n",
    "LE2 = sp.diff(L, theta2) - sp.diff(sp.diff(L, theta2_d), t)"
   ]
  },
  {
   "cell_type": "code",
   "execution_count": null,
   "id": "6a97fb7c-c36c-4b90-9552-fefbee6002ad",
   "metadata": {},
   "outputs": [],
   "source": [
    "LE1.simplify()"
   ]
  },
  {
   "cell_type": "code",
   "execution_count": null,
   "id": "38a6483f-30c7-498e-8e38-cc37968a1f61",
   "metadata": {},
   "outputs": [],
   "source": [
    "LE2.simplify()"
   ]
  },
  {
   "cell_type": "markdown",
   "id": "b0a71d5a-50f6-45ae-b36c-df5311b16867",
   "metadata": {},
   "source": [
    "From `LE1` and `LE2`, we want to extract a system of two second order differential equations that we can solve.\n",
    "\n",
    "The following `solve` command gives us equations\n",
    "\n",
    "$$\n",
    "\\frac{d^2\\theta_1}{dt^2} = \\dots\n",
    "$$\n",
    "and\n",
    "$$\n",
    "\\frac{d^2\\theta_2}{dt^2} = \\dots\n",
    "$$\n",
    "\n",
    "\n",
    "**Notes:** (1) Lagranges equation ensure that the second derivatives $d^2 q / dt^2$ (in our case $d^2 \\theta_1 / dt^2$ and $d^2 \\theta_2 / dt^2$) *always* appear as linear factors!; (2) The following `sp.solve` assumes that `LE1` and `LE2` are both equal to zero."
   ]
  },
  {
   "cell_type": "code",
   "execution_count": null,
   "id": "74616fd8-6efe-4e0a-acfc-4512b28fca09",
   "metadata": {},
   "outputs": [],
   "source": [
    "sol = sp.solve([LE1, LE2], [theta1_dd, theta2_dd])"
   ]
  },
  {
   "cell_type": "code",
   "execution_count": null,
   "id": "8515c9e3-e8cd-4b2b-8e04-8e9f294dfe24",
   "metadata": {},
   "outputs": [],
   "source": [
    "sol[theta1_dd].simplify()"
   ]
  },
  {
   "cell_type": "markdown",
   "id": "ccf187a5-8971-4b00-b760-4ee0ae654cf9",
   "metadata": {},
   "source": [
    "Now we have \n",
    "\n",
    "* $\\frac{d^2 \\theta_1}{dt^2} = ...$\n",
    "* $\\frac{d^2 \\theta_2}{dt^2} = ...$\n"
   ]
  },
  {
   "cell_type": "markdown",
   "id": "0b52d737-5a71-416c-a5fa-a24bf4c83551",
   "metadata": {},
   "source": [
    "**Recap from the `scipy`-lecture:**\n",
    "\n",
    "These are two second order ODEs! In python we can only solve systems of first order ODEs. Any system of second order ODEs can be converted as follows:\n",
    "\n",
    "1. Define $u = d\\theta_1/dt$ and $v=d\\theta_2/dt$\n",
    "2. Then $du/dt = d^2\\theta_1/dt^2$ and $dv/dt = d^2\\theta_2/dt^2$\n",
    "\n",
    "Now we get a system of 4 first order ODEs (as opposed to 2 second order ones)\n",
    "\n",
    "* $d\\theta_1/dt = u$\n",
    "* $d\\theta_2/dt = v$\n",
    "* $d u/dt = ...$\n",
    "* $d v/dt = ...$\n",
    "\n",
    "We need to convert the **symbolic** expressions above to numerical functions so we can use them in a numerical python solver. For this we use `smp.lambdify`"
   ]
  },
  {
   "cell_type": "code",
   "execution_count": null,
   "id": "4c75cbc5-76f8-41ba-abd1-e6aad51faf83",
   "metadata": {},
   "outputs": [],
   "source": [
    "theta1_dd_n = sp.lambdify([theta1, theta2, \n",
    "                           theta1_d, theta2_d, \n",
    "                           L1, L2, m1, m2, g], sol[theta1_dd])\n",
    "theta2_dd_n = sp.lambdify([theta1, theta2, \n",
    "                           theta1_d, theta2_d, \n",
    "                           L1, L2, m1, m2, g], sol[theta2_dd])"
   ]
  },
  {
   "cell_type": "code",
   "execution_count": null,
   "id": "f01244d8-8aa9-482e-b9a5-b9fa2965bccb",
   "metadata": {},
   "outputs": [],
   "source": [
    "theta1_dd_n(0.0, np.pi/4, 0.0, 0.0, 1, 1, 1, 1, 9.81)"
   ]
  },
  {
   "cell_type": "markdown",
   "id": "db912de2-c23e-49b0-bd2d-ef0166c97b06",
   "metadata": {},
   "source": [
    "Now define $\\vec{S} = (\\theta_1, \\theta_2, u, v)$. If we're going to use an ODE solver in python, we need to write a function that takes in $\\vec{S}$ and $t$ and returns $d\\vec{S}/dt$. In other words, we need to define $\\frac{d\\vec{S}(\\vec{S}, t)}{dt}$"
   ]
  },
  {
   "cell_type": "code",
   "execution_count": null,
   "id": "0f68d69a-5900-406b-b32a-288890386bca",
   "metadata": {},
   "outputs": [],
   "source": [
    "def dSdt(S, t, L1, L2, m1, m2, g):\n",
    "    theta1, theta2, u, v = S\n",
    "    \n",
    "    dtheta1dt = u\n",
    "    dtheta2dt = v\n",
    "    dudt = theta1_dd_n(theta1, theta2, u, v, L1, L2, m1, m2,g)\n",
    "    dvdt = theta2_dd_n(theta1, theta2, u, v, L1, L2, m1, m2,g)\n",
    "    \n",
    "    return [dtheta1dt, dtheta2dt, dudt, dvdt]"
   ]
  },
  {
   "cell_type": "markdown",
   "id": "95fd703e-17df-4635-8700-0ce8995f76ae",
   "metadata": {},
   "source": [
    "Fix physical constants:"
   ]
  },
  {
   "cell_type": "code",
   "execution_count": null,
   "id": "6bd555f4-13d1-4cc0-8ac1-5bb29550c106",
   "metadata": {},
   "outputs": [],
   "source": [
    "L1, L2, m1, m2, g = 4., 4., 0.5, 0.5, 9.81"
   ]
  },
  {
   "cell_type": "code",
   "execution_count": null,
   "id": "59bb8305-6550-4c69-9c12-3b8137e306d7",
   "metadata": {},
   "outputs": [],
   "source": [
    "t = np.linspace(0.0, 20, 1001)\n",
    "S0 = [3.0 * np.pi / 4., 0.0, 2.0, -1.0]\n",
    "#S0 = [np.pi / 4., 0.0, 0.0, 0.0]\n",
    "sol_dgl = si.odeint(dSdt, S0, t=t, args=(L1, L2, m1, m2, g))"
   ]
  },
  {
   "cell_type": "code",
   "execution_count": null,
   "id": "2e304452-6100-43a3-9dfb-9fbe59acfe57",
   "metadata": {},
   "outputs": [],
   "source": [
    "plt.plot(t, sol_dgl[:,0])"
   ]
  },
  {
   "cell_type": "markdown",
   "id": "069c3ecc-dccb-43fb-b998-6e9ebe0ef104",
   "metadata": {},
   "source": [
    "Finally, create an animation of our double pendulum:"
   ]
  },
  {
   "cell_type": "code",
   "execution_count": null,
   "id": "dd939d4f-1ab9-4ce3-b391-878b123ee696",
   "metadata": {},
   "outputs": [],
   "source": [
    "def get_x1y1x2y2(theta1, theta2):\n",
    "    return (L1 * np.sin(theta1),\n",
    "            - L1 * np.cos(theta1),\n",
    "            L1 * np.sin(theta1) + L2 * np.sin(theta2),\n",
    "            -L1 * np.cos(theta1) - L2 * np.cos(theta2)\n",
    "    )"
   ]
  },
  {
   "cell_type": "code",
   "execution_count": null,
   "id": "39d6ea0e-10e1-4887-b23f-6d379692e4a5",
   "metadata": {},
   "outputs": [],
   "source": [
    "x1, y1, x2, y2 = get_x1y1x2y2(sol_dgl[:,0], sol_dgl[:,1])"
   ]
  },
  {
   "cell_type": "code",
   "execution_count": null,
   "id": "1a066ee1-aee1-47db-aaec-364851703965",
   "metadata": {},
   "outputs": [],
   "source": [
    "plt.plot(x2)"
   ]
  },
  {
   "cell_type": "code",
   "execution_count": null,
   "id": "fef3743f-0df9-4ddf-96d7-15bf9bd041a4",
   "metadata": {},
   "outputs": [],
   "source": [
    "def animate(i, ln1):\n",
    "    ln1.set_data([0, x1[i], x2[i]], [0, y1[i], y2[i]])\n",
    "    \n",
    "    return ln3,\n",
    "\n",
    "fig, ax = plt.subplots(1,1, figsize=(8,8))\n",
    "ax.grid()\n",
    "ln1, = plt.plot([], [], lw=3, markersize=15, marker='o', \n",
    "                color='black', markerfacecolor='lightblue')\n",
    "\n",
    "ax.set_ylim(-10, 10)\n",
    "ax.set_xlim(-10,10)\n",
    "ani = animation.FuncAnimation(fig, animate, fargs=(ln1,),\n",
    "                              frames=1000, interval=50)\n",
    "ani.save('pendulum.gif',writer='pillow',fps=50)"
   ]
  }
 ],
 "metadata": {
  "kernelspec": {
   "display_name": "Python 3 (ipykernel)",
   "language": "python",
   "name": "python3"
  },
  "language_info": {
   "codemirror_mode": {
    "name": "ipython",
    "version": 3
   },
   "file_extension": ".py",
   "mimetype": "text/x-python",
   "name": "python",
   "nbconvert_exporter": "python",
   "pygments_lexer": "ipython3",
   "version": "3.7.13"
  }
 },
 "nbformat": 4,
 "nbformat_minor": 5
}
