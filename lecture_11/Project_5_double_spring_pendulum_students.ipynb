{
 "cells": [
  {
   "cell_type": "markdown",
   "id": "3a9e6fb4-ef88-4197-954a-3acdbb7a9aa6",
   "metadata": {},
   "source": [
    "# Project 5 - The double spring pendulum"
   ]
  },
  {
   "cell_type": "markdown",
   "id": "ae080528-2683-4819-a5b4-d67de4fe0b1d",
   "metadata": {
    "tags": []
   },
   "source": [
    "**Project deadline:** This project is due for submission on Thursday, 14.07.2022, 23:55. Please check carefully the *About the Projects* section below for further details."
   ]
  },
  {
   "cell_type": "markdown",
   "id": "24558a7a-b7ad-494e-9db4-7e3874ab246f",
   "metadata": {},
   "source": [
    "**Imprtant:** You again have the choice between two projects. This project is similar to our *Lagragian mechanics* lecture and it shoukd motivate you to teach yourself more about the pwoerful `sympy`-library.\n",
    "\n",
    "The other project from Nina focuses on simulations on time-evolutions on grids - a very important scientific tool used in many different fields from physics, from superconductors, magnets, and frustrated glassy systems over liquid crystals and weather systems, to more exotic concepts such as spread of diseases in society and growth of cities. \n",
    "\n",
    "Ninas project teaches modern analysis techniques and advanced statistical techniques, and you will need to use numpy array-operations and Fourier transforms. The simulations you will perform are based on the Monte Carlo method. "
   ]
  },
  {
   "cell_type": "markdown",
   "id": "6c95c57e-2c30-4ae0-8b20-c0825e8deaa1",
   "metadata": {},
   "source": [
    "**Note:** The project is close to what we did in the `Lagragian mechanics` lecture. Perhaps you have another *non-trivial* problem from your Bachelor studies that you always wanted to solve - typically in class only *easy and analytically solvable* problems are treated. During my first theoretical physics class (theoretical mechanics), I wanted to solve the problem of this project with `Maple`. I did not succeed at the time. If you have such a problem, please talk to me. If it is non-trivial, you are very welcome to solve *your* problem in this project! "
   ]
  },
  {
   "cell_type": "markdown",
   "id": "ce602cd4-0ec7-445b-b774-dca33d7ca4a2",
   "metadata": {
    "tags": []
   },
   "source": [
    "## About the Projects\n",
    "- You will get one project approximately every other week.\n",
    "- Besides the homework-assignments, you need to solve the projects in order to pass the course. Your final course mark consists of the mean of your project marks. We hand-out four projects during the term and we do not consider the worst project mark for your final course mark. Projects that you do not hand in are counted with a mark of 4.\n",
    "- The project needs to be submitted by uploading this notebook on eCampus. You do not need to modify the notebooks name before your upload. Your project must be on eCampus by Thursday 14th of July, 23:55. **No late uploads can be accepted!**\n",
    "- **In contrast to the homework exercises, each student must hand in an own solution for the projects! Of course you can and should discuss problems with each other! However, you need to be able to explain your solution in detail to your tutor and/or the lecturers! We might ask you for an interview about your project if the solution is (close to) identical to another students submission.**\n",
    "\n",
    "**Note:** The tutors, Nina and I are very happy to help you out with difficulties you might have with the project tasks! You can ask questions any time but please do so well in advance of the deadlines!"
   ]
  },
  {
   "cell_type": "markdown",
   "id": "c92edd6a-c658-4b17-b218-5467caf50161",
   "metadata": {},
   "source": [
    "## This project"
   ]
  },
  {
   "cell_type": "markdown",
   "id": "b19de10f-9f09-4c28-9c4f-8d7f7f6f8068",
   "metadata": {},
   "source": [
    "We consider the double spring pendulum; see the following figure:"
   ]
  },
  {
   "cell_type": "markdown",
   "id": "3e5ca8ee-dcae-4cc9-8717-eb0f5536c2b7",
   "metadata": {},
   "source": [
    "<img src=\"figs/double_spring_pendulum.png\" height=100 />"
   ]
  },
  {
   "cell_type": "markdown",
   "id": "0b6f020c-30bf-42fe-be7c-d5932b0c0153",
   "metadata": {},
   "source": [
    "Two masses $m_1$ and $m_2$ are connected via two springs (spring constants $k_1$ and $k_2$. In rest, the springs have a length of $l_1$ and $l_2$ respectively. The origin (red dot) is fixed but otherwise the two masses can move freely (gravity acts in the negative $y$-direction)."
   ]
  },
  {
   "cell_type": "markdown",
   "id": "9cb32f4e-184d-4b17-814a-f8aa234433a2",
   "metadata": {},
   "source": [
    "### Your tasks:"
   ]
  },
  {
   "cell_type": "markdown",
   "id": "90927a7e-18c8-4fe4-9690-f30f69c39019",
   "metadata": {},
   "source": [
    "1. Write down the Lagragian of the system.\n",
    "2. Use `sympy` and `odeint` to solve the equations of motions for the system. Consider a timeframe of 60 seconds.\n",
    "3. Create a movie visualising the movements of the system. Please use the internet to obtain more information about it if the lecture material is not sufficeint. Of course, you are also very welcome to start discussing it on the `eCampus` forum. "
   ]
  }
 ],
 "metadata": {
  "kernelspec": {
   "display_name": "Python 3 (ipykernel)",
   "language": "python",
   "name": "python3"
  },
  "language_info": {
   "codemirror_mode": {
    "name": "ipython",
    "version": 3
   },
   "file_extension": ".py",
   "mimetype": "text/x-python",
   "name": "python",
   "nbconvert_exporter": "python",
   "pygments_lexer": "ipython3",
   "version": "3.7.13"
  }
 },
 "nbformat": 4,
 "nbformat_minor": 5
}
